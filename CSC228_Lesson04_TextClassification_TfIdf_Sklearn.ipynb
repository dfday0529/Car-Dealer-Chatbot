{
  "nbformat": 4,
  "nbformat_minor": 0,
  "metadata": {
    "colab": {
      "provenance": [],
      "include_colab_link": true
    },
    "kernelspec": {
      "name": "python3",
      "display_name": "Python 3"
    },
    "language_info": {
      "name": "python"
    }
  },
  "cells": [
    {
      "cell_type": "markdown",
      "metadata": {
        "id": "view-in-github",
        "colab_type": "text"
      },
      "source": [
        "<a href=\"https://colab.research.google.com/github/dfday0529/Car-Dealer-Chatbot/blob/main/CSC228_Lesson04_TextClassification_TfIdf_Sklearn.ipynb\" target=\"_parent\"><img src=\"https://colab.research.google.com/assets/colab-badge.svg\" alt=\"Open In Colab\"/></a>"
      ]
    },
    {
      "cell_type": "code",
      "execution_count": null,
      "metadata": {
        "id": "7Eh18nK0IumG"
      },
      "outputs": [],
      "source": [
        "# Text Classification using TFIDF Vectorization and Sklearn\n",
        "# Text is Classified using Binary Classification of positive or negative sentiment.\n",
        "# using supervised Yelp, Imdb (movie reviews), and Amazon datasets. \n",
        "#\n",
        "# Uses Libraries:  sklearn\n",
        "# Runtime:  Google CoLab (cpu)\n",
        "#\n",
        "# Owner:  Lorrie Tomek\n",
        "# \n",
        "# Data: \n",
        "# UCI Machine Learning Repository\n",
        "# General URL:  https://archive.ics.uci.edu/\n",
        "# Sentiment Labeled Sentences URL: \n",
        "# https://archive.ics.uci.edu/ml/datasets/sentiment+labelled+sentences\n",
        "#\n",
        "# Reference:  Real Python \n",
        "# URL:  https://realpython.com/python-keras-text-classification/\n",
        "# The tutorial is freely available on the internet.  (Verified December 2022.)  \n",
        "# It is modified in this notebook for teaching purposes, especially n-grams."
      ]
    },
    {
      "cell_type": "markdown",
      "source": [
        "# Text Classification using Tfidf\n",
        "\n",
        "This is a follow-on lesson to \"Text classification using Bag-of-Ngrams\".  We will again use sklearn in this lesson. \n",
        "\n",
        "Instead of using the CountVectorizer and counts of vocabulary n-grams, we will instead use the TfidfVectorizer.\n",
        "\n",
        "The TfidfVectorizer class works almost exactly like the CountVectorizer, however it calculates word frequencies differently. \n",
        "Word (or n-gram) frequencies are calculated as follows. For each word, the overall frequency is a product of the term frequency and the inverse document frequency. Term frequency is the number of times the word occurs in the document. Inverse document frequency is the total number of documents divided by the number of documents where the word occurs.  In this terminology, a document is a \"sample utterance\".\n",
        "\n",
        "The content is identical, until we get to \"Vocabulary\" section.  The previous \"identical\" part is kept here so it is \"stand alone\". "
      ],
      "metadata": {
        "id": "zWd6SRvvktyZ"
      }
    },
    {
      "cell_type": "code",
      "source": [
        "# import python libraries\n",
        "import pandas as pd\n",
        "import numpy as np\n",
        "from pprint import pprint\n",
        "from sklearn.feature_extraction.text import TfidfVectorizer"
      ],
      "metadata": {
        "id": "lMih5oht7zQG"
      },
      "execution_count": null,
      "outputs": []
    },
    {
      "cell_type": "code",
      "source": [
        "# some constants\n",
        "MIN_DF = 0.05\n",
        "MAX_DF = 0.8\n",
        "MAX_FEATURES = 50000\n",
        "LOWERCASE = False"
      ],
      "metadata": {
        "id": "TvIGhAB-zYXU"
      },
      "execution_count": null,
      "outputs": []
    },
    {
      "cell_type": "markdown",
      "source": [
        "## Choose and Download a Dataset\n",
        "\n",
        "We will use a dataset from the UCI Machine Learning Repository which has labeled sentences for Sentiment Analysis.\n",
        "\n",
        "Investigate the UCI Machine Learning Repository at this URL: \n",
        "https://archive.ics.uci.edu/\n",
        "\n",
        "If you have not downloaded this, please do so. "
      ],
      "metadata": {
        "id": "k_yUrI6-8p7w"
      }
    },
    {
      "cell_type": "code",
      "source": [
        "# download and rename the zip file\n",
        "# we can use many unix commands with an exclamation point in front of them in jupyter notebooks\n",
        "!wget -c \"https://archive.ics.uci.edu/ml/machine-learning-databases/00331/sentiment%20labelled%20sentences.zip\" -O sentiment_labelled_sentences.zip"
      ],
      "metadata": {
        "colab": {
          "base_uri": "https://localhost:8080/"
        },
        "id": "bQd1RxRG-d4o",
        "outputId": "583815e9-8607-4fbc-c06e-3e8c2fc4d34c"
      },
      "execution_count": null,
      "outputs": [
        {
          "output_type": "stream",
          "name": "stdout",
          "text": [
            "--2023-01-30 19:34:55--  https://archive.ics.uci.edu/ml/machine-learning-databases/00331/sentiment%20labelled%20sentences.zip\n",
            "Resolving archive.ics.uci.edu (archive.ics.uci.edu)... 128.195.10.252\n",
            "Connecting to archive.ics.uci.edu (archive.ics.uci.edu)|128.195.10.252|:443... connected.\n",
            "HTTP request sent, awaiting response... 416 Requested Range Not Satisfiable\n",
            "\n",
            "    The file is already fully retrieved; nothing to do.\n",
            "\n"
          ]
        }
      ]
    },
    {
      "cell_type": "code",
      "source": [
        "# if you already unzipped the data, comment this out or it will stop and ask \n",
        "# if you want to replace. \n",
        "# unzip to current directory only, to make it easier to find the .txt files\n",
        "#!unzip -j sentiment_labelled_sentences.zip"
      ],
      "metadata": {
        "id": "nH7rzWdZAwhv"
      },
      "execution_count": null,
      "outputs": []
    },
    {
      "cell_type": "code",
      "source": [
        "!ls -r "
      ],
      "metadata": {
        "id": "8m_uhWBMCUT6",
        "colab": {
          "base_uri": "https://localhost:8080/"
        },
        "outputId": "3ffecb30-8339-4199-f991-a71e740903bf"
      },
      "execution_count": null,
      "outputs": [
        {
          "output_type": "stream",
          "name": "stdout",
          "text": [
            "yelp_labelled.txt\t\t  sample_data  imdb_labelled.txt\n",
            "sentiment_labelled_sentences.zip  readme.txt   amazon_cells_labelled.txt\n"
          ]
        }
      ]
    },
    {
      "cell_type": "code",
      "source": [
        "# read the data from the 3 labeled .txt files into a python pandas dataframe\n",
        "# pandas dataframes are similar to excel spreadsheets with rows and columns\n",
        "filepath_dict = {'yelp':   'yelp_labelled.txt',\n",
        "                 'amazon': 'amazon_cells_labelled.txt',\n",
        "                 'imdb':   'imdb_labelled.txt'}\n",
        "\n",
        "df_list = []\n",
        "for source, filepath in filepath_dict.items():\n",
        "    df = pd.read_csv(filepath, names = ['sentence', 'label'], sep = '\\t')\n",
        "    df['source'] = source  # Add another column filled with the source name\n",
        "    df_list.append(df)\n",
        "\n",
        "df = pd.concat(df_list)\n",
        "print(df.iloc[0])"
      ],
      "metadata": {
        "id": "N6sRoDNb8NmB",
        "colab": {
          "base_uri": "https://localhost:8080/"
        },
        "outputId": "24f7e157-7e75-4e4d-e4ae-0cea27bcf721"
      },
      "execution_count": null,
      "outputs": [
        {
          "output_type": "stream",
          "name": "stdout",
          "text": [
            "sentence    Wow... Loved this place.\n",
            "label                              1\n",
            "source                          yelp\n",
            "Name: 0, dtype: object\n"
          ]
        }
      ]
    },
    {
      "cell_type": "markdown",
      "source": [
        "## Explore the Data\n",
        "\n",
        "Next, we want to explore the data, so we gain an intuitive understanding.  In our case, we have downloaded a dataset that is quite \"clean\", so we won't do a lot of **data cleansing**.  Our dataset is also already labeled as positive or negative sentiment, so we will be able to use **supervised machine learning**. "
      ],
      "metadata": {
        "id": "YJKNu9jw_W9K"
      }
    },
    {
      "cell_type": "code",
      "source": [
        "# Look at the first 5 rows of data \n",
        "# notice that the source is 'yelp' one of our 3 text files\n",
        "# and the label is 1 or 0\n",
        "# Look back at the documentation at the UCI Machine Learning Repository \n",
        "# where we downloaded this file to see what the labels mean.\n",
        "# In this case, 1 is positive sentiment, and 0 is negative sentiment.\n",
        "df[:5]"
      ],
      "metadata": {
        "id": "q5a6uRN_Dwed",
        "colab": {
          "base_uri": "https://localhost:8080/",
          "height": 206
        },
        "outputId": "aa935816-439c-4ac7-8df0-a0a4542120e0"
      },
      "execution_count": null,
      "outputs": [
        {
          "output_type": "execute_result",
          "data": {
            "text/plain": [
              "                                            sentence  label source\n",
              "0                           Wow... Loved this place.      1   yelp\n",
              "1                                 Crust is not good.      0   yelp\n",
              "2          Not tasty and the texture was just nasty.      0   yelp\n",
              "3  Stopped by during the late May bank holiday of...      1   yelp\n",
              "4  The selection on the menu was great and so wer...      1   yelp"
            ],
            "text/html": [
              "\n",
              "  <div id=\"df-e5f88815-4eb4-4d79-8790-99f224d50441\">\n",
              "    <div class=\"colab-df-container\">\n",
              "      <div>\n",
              "<style scoped>\n",
              "    .dataframe tbody tr th:only-of-type {\n",
              "        vertical-align: middle;\n",
              "    }\n",
              "\n",
              "    .dataframe tbody tr th {\n",
              "        vertical-align: top;\n",
              "    }\n",
              "\n",
              "    .dataframe thead th {\n",
              "        text-align: right;\n",
              "    }\n",
              "</style>\n",
              "<table border=\"1\" class=\"dataframe\">\n",
              "  <thead>\n",
              "    <tr style=\"text-align: right;\">\n",
              "      <th></th>\n",
              "      <th>sentence</th>\n",
              "      <th>label</th>\n",
              "      <th>source</th>\n",
              "    </tr>\n",
              "  </thead>\n",
              "  <tbody>\n",
              "    <tr>\n",
              "      <th>0</th>\n",
              "      <td>Wow... Loved this place.</td>\n",
              "      <td>1</td>\n",
              "      <td>yelp</td>\n",
              "    </tr>\n",
              "    <tr>\n",
              "      <th>1</th>\n",
              "      <td>Crust is not good.</td>\n",
              "      <td>0</td>\n",
              "      <td>yelp</td>\n",
              "    </tr>\n",
              "    <tr>\n",
              "      <th>2</th>\n",
              "      <td>Not tasty and the texture was just nasty.</td>\n",
              "      <td>0</td>\n",
              "      <td>yelp</td>\n",
              "    </tr>\n",
              "    <tr>\n",
              "      <th>3</th>\n",
              "      <td>Stopped by during the late May bank holiday of...</td>\n",
              "      <td>1</td>\n",
              "      <td>yelp</td>\n",
              "    </tr>\n",
              "    <tr>\n",
              "      <th>4</th>\n",
              "      <td>The selection on the menu was great and so wer...</td>\n",
              "      <td>1</td>\n",
              "      <td>yelp</td>\n",
              "    </tr>\n",
              "  </tbody>\n",
              "</table>\n",
              "</div>\n",
              "      <button class=\"colab-df-convert\" onclick=\"convertToInteractive('df-e5f88815-4eb4-4d79-8790-99f224d50441')\"\n",
              "              title=\"Convert this dataframe to an interactive table.\"\n",
              "              style=\"display:none;\">\n",
              "        \n",
              "  <svg xmlns=\"http://www.w3.org/2000/svg\" height=\"24px\"viewBox=\"0 0 24 24\"\n",
              "       width=\"24px\">\n",
              "    <path d=\"M0 0h24v24H0V0z\" fill=\"none\"/>\n",
              "    <path d=\"M18.56 5.44l.94 2.06.94-2.06 2.06-.94-2.06-.94-.94-2.06-.94 2.06-2.06.94zm-11 1L8.5 8.5l.94-2.06 2.06-.94-2.06-.94L8.5 2.5l-.94 2.06-2.06.94zm10 10l.94 2.06.94-2.06 2.06-.94-2.06-.94-.94-2.06-.94 2.06-2.06.94z\"/><path d=\"M17.41 7.96l-1.37-1.37c-.4-.4-.92-.59-1.43-.59-.52 0-1.04.2-1.43.59L10.3 9.45l-7.72 7.72c-.78.78-.78 2.05 0 2.83L4 21.41c.39.39.9.59 1.41.59.51 0 1.02-.2 1.41-.59l7.78-7.78 2.81-2.81c.8-.78.8-2.07 0-2.86zM5.41 20L4 18.59l7.72-7.72 1.47 1.35L5.41 20z\"/>\n",
              "  </svg>\n",
              "      </button>\n",
              "      \n",
              "  <style>\n",
              "    .colab-df-container {\n",
              "      display:flex;\n",
              "      flex-wrap:wrap;\n",
              "      gap: 12px;\n",
              "    }\n",
              "\n",
              "    .colab-df-convert {\n",
              "      background-color: #E8F0FE;\n",
              "      border: none;\n",
              "      border-radius: 50%;\n",
              "      cursor: pointer;\n",
              "      display: none;\n",
              "      fill: #1967D2;\n",
              "      height: 32px;\n",
              "      padding: 0 0 0 0;\n",
              "      width: 32px;\n",
              "    }\n",
              "\n",
              "    .colab-df-convert:hover {\n",
              "      background-color: #E2EBFA;\n",
              "      box-shadow: 0px 1px 2px rgba(60, 64, 67, 0.3), 0px 1px 3px 1px rgba(60, 64, 67, 0.15);\n",
              "      fill: #174EA6;\n",
              "    }\n",
              "\n",
              "    [theme=dark] .colab-df-convert {\n",
              "      background-color: #3B4455;\n",
              "      fill: #D2E3FC;\n",
              "    }\n",
              "\n",
              "    [theme=dark] .colab-df-convert:hover {\n",
              "      background-color: #434B5C;\n",
              "      box-shadow: 0px 1px 3px 1px rgba(0, 0, 0, 0.15);\n",
              "      filter: drop-shadow(0px 1px 2px rgba(0, 0, 0, 0.3));\n",
              "      fill: #FFFFFF;\n",
              "    }\n",
              "  </style>\n",
              "\n",
              "      <script>\n",
              "        const buttonEl =\n",
              "          document.querySelector('#df-e5f88815-4eb4-4d79-8790-99f224d50441 button.colab-df-convert');\n",
              "        buttonEl.style.display =\n",
              "          google.colab.kernel.accessAllowed ? 'block' : 'none';\n",
              "\n",
              "        async function convertToInteractive(key) {\n",
              "          const element = document.querySelector('#df-e5f88815-4eb4-4d79-8790-99f224d50441');\n",
              "          const dataTable =\n",
              "            await google.colab.kernel.invokeFunction('convertToInteractive',\n",
              "                                                     [key], {});\n",
              "          if (!dataTable) return;\n",
              "\n",
              "          const docLinkHtml = 'Like what you see? Visit the ' +\n",
              "            '<a target=\"_blank\" href=https://colab.research.google.com/notebooks/data_table.ipynb>data table notebook</a>'\n",
              "            + ' to learn more about interactive tables.';\n",
              "          element.innerHTML = '';\n",
              "          dataTable['output_type'] = 'display_data';\n",
              "          await google.colab.output.renderOutput(dataTable, element);\n",
              "          const docLink = document.createElement('div');\n",
              "          docLink.innerHTML = docLinkHtml;\n",
              "          element.appendChild(docLink);\n",
              "        }\n",
              "      </script>\n",
              "    </div>\n",
              "  </div>\n",
              "  "
            ]
          },
          "metadata": {},
          "execution_count": 80
        }
      ]
    },
    {
      "cell_type": "code",
      "source": [
        "# In pandas, columns have data types that are inferred;\n",
        "# Here we can see that the sentence column is a general 'object' rather than 'string' \n",
        "# Sometimes this means that there is missing (or NaN) data\n",
        "df.dtypes"
      ],
      "metadata": {
        "id": "5sZ2W629IEHJ",
        "colab": {
          "base_uri": "https://localhost:8080/"
        },
        "outputId": "916e85b7-138a-4bcb-8b80-e6b492c289d9"
      },
      "execution_count": null,
      "outputs": [
        {
          "output_type": "execute_result",
          "data": {
            "text/plain": [
              "sentence    object\n",
              "label        int64\n",
              "source      object\n",
              "dtype: object"
            ]
          },
          "metadata": {},
          "execution_count": 81
        }
      ]
    },
    {
      "cell_type": "code",
      "source": [
        "# What are all the possible values of the source column?\n",
        "set(df['source'].tolist())"
      ],
      "metadata": {
        "id": "iyz3yblUCOod",
        "colab": {
          "base_uri": "https://localhost:8080/"
        },
        "outputId": "9fb78d8f-d410-4cd5-f360-f7fee7ad5e70"
      },
      "execution_count": null,
      "outputs": [
        {
          "output_type": "execute_result",
          "data": {
            "text/plain": [
              "{'amazon', 'imdb', 'yelp'}"
            ]
          },
          "metadata": {},
          "execution_count": 82
        }
      ]
    },
    {
      "cell_type": "code",
      "source": [
        "# What are all the unique values of the label?\n",
        "set(df['label'].tolist())"
      ],
      "metadata": {
        "id": "Uh03zSl6CwIc",
        "colab": {
          "base_uri": "https://localhost:8080/"
        },
        "outputId": "ec52485e-6e83-43bd-d0e6-5b5919abf1d2"
      },
      "execution_count": null,
      "outputs": [
        {
          "output_type": "execute_result",
          "data": {
            "text/plain": [
              "{0, 1}"
            ]
          },
          "metadata": {},
          "execution_count": 83
        }
      ]
    },
    {
      "cell_type": "code",
      "source": [
        "# What are the first 5 rows of data from the imdb source?\n",
        "df[df['source']=='imdb'][:5]"
      ],
      "metadata": {
        "id": "6rcrg8RjC4df",
        "colab": {
          "base_uri": "https://localhost:8080/",
          "height": 206
        },
        "outputId": "81c8d8dd-a51a-4ef6-f412-f2dfeda1174b"
      },
      "execution_count": null,
      "outputs": [
        {
          "output_type": "execute_result",
          "data": {
            "text/plain": [
              "                                            sentence  label source\n",
              "0  A very, very, very slow-moving, aimless movie ...      0   imdb\n",
              "1  Not sure who was more lost - the flat characte...      0   imdb\n",
              "2  Attempting artiness with black & white and cle...      0   imdb\n",
              "3       Very little music or anything to speak of.        0   imdb\n",
              "4  The best scene in the movie was when Gerardo i...      1   imdb"
            ],
            "text/html": [
              "\n",
              "  <div id=\"df-fb565bd7-71f0-4f26-90a6-9ec21b2cb42e\">\n",
              "    <div class=\"colab-df-container\">\n",
              "      <div>\n",
              "<style scoped>\n",
              "    .dataframe tbody tr th:only-of-type {\n",
              "        vertical-align: middle;\n",
              "    }\n",
              "\n",
              "    .dataframe tbody tr th {\n",
              "        vertical-align: top;\n",
              "    }\n",
              "\n",
              "    .dataframe thead th {\n",
              "        text-align: right;\n",
              "    }\n",
              "</style>\n",
              "<table border=\"1\" class=\"dataframe\">\n",
              "  <thead>\n",
              "    <tr style=\"text-align: right;\">\n",
              "      <th></th>\n",
              "      <th>sentence</th>\n",
              "      <th>label</th>\n",
              "      <th>source</th>\n",
              "    </tr>\n",
              "  </thead>\n",
              "  <tbody>\n",
              "    <tr>\n",
              "      <th>0</th>\n",
              "      <td>A very, very, very slow-moving, aimless movie ...</td>\n",
              "      <td>0</td>\n",
              "      <td>imdb</td>\n",
              "    </tr>\n",
              "    <tr>\n",
              "      <th>1</th>\n",
              "      <td>Not sure who was more lost - the flat characte...</td>\n",
              "      <td>0</td>\n",
              "      <td>imdb</td>\n",
              "    </tr>\n",
              "    <tr>\n",
              "      <th>2</th>\n",
              "      <td>Attempting artiness with black &amp; white and cle...</td>\n",
              "      <td>0</td>\n",
              "      <td>imdb</td>\n",
              "    </tr>\n",
              "    <tr>\n",
              "      <th>3</th>\n",
              "      <td>Very little music or anything to speak of.</td>\n",
              "      <td>0</td>\n",
              "      <td>imdb</td>\n",
              "    </tr>\n",
              "    <tr>\n",
              "      <th>4</th>\n",
              "      <td>The best scene in the movie was when Gerardo i...</td>\n",
              "      <td>1</td>\n",
              "      <td>imdb</td>\n",
              "    </tr>\n",
              "  </tbody>\n",
              "</table>\n",
              "</div>\n",
              "      <button class=\"colab-df-convert\" onclick=\"convertToInteractive('df-fb565bd7-71f0-4f26-90a6-9ec21b2cb42e')\"\n",
              "              title=\"Convert this dataframe to an interactive table.\"\n",
              "              style=\"display:none;\">\n",
              "        \n",
              "  <svg xmlns=\"http://www.w3.org/2000/svg\" height=\"24px\"viewBox=\"0 0 24 24\"\n",
              "       width=\"24px\">\n",
              "    <path d=\"M0 0h24v24H0V0z\" fill=\"none\"/>\n",
              "    <path d=\"M18.56 5.44l.94 2.06.94-2.06 2.06-.94-2.06-.94-.94-2.06-.94 2.06-2.06.94zm-11 1L8.5 8.5l.94-2.06 2.06-.94-2.06-.94L8.5 2.5l-.94 2.06-2.06.94zm10 10l.94 2.06.94-2.06 2.06-.94-2.06-.94-.94-2.06-.94 2.06-2.06.94z\"/><path d=\"M17.41 7.96l-1.37-1.37c-.4-.4-.92-.59-1.43-.59-.52 0-1.04.2-1.43.59L10.3 9.45l-7.72 7.72c-.78.78-.78 2.05 0 2.83L4 21.41c.39.39.9.59 1.41.59.51 0 1.02-.2 1.41-.59l7.78-7.78 2.81-2.81c.8-.78.8-2.07 0-2.86zM5.41 20L4 18.59l7.72-7.72 1.47 1.35L5.41 20z\"/>\n",
              "  </svg>\n",
              "      </button>\n",
              "      \n",
              "  <style>\n",
              "    .colab-df-container {\n",
              "      display:flex;\n",
              "      flex-wrap:wrap;\n",
              "      gap: 12px;\n",
              "    }\n",
              "\n",
              "    .colab-df-convert {\n",
              "      background-color: #E8F0FE;\n",
              "      border: none;\n",
              "      border-radius: 50%;\n",
              "      cursor: pointer;\n",
              "      display: none;\n",
              "      fill: #1967D2;\n",
              "      height: 32px;\n",
              "      padding: 0 0 0 0;\n",
              "      width: 32px;\n",
              "    }\n",
              "\n",
              "    .colab-df-convert:hover {\n",
              "      background-color: #E2EBFA;\n",
              "      box-shadow: 0px 1px 2px rgba(60, 64, 67, 0.3), 0px 1px 3px 1px rgba(60, 64, 67, 0.15);\n",
              "      fill: #174EA6;\n",
              "    }\n",
              "\n",
              "    [theme=dark] .colab-df-convert {\n",
              "      background-color: #3B4455;\n",
              "      fill: #D2E3FC;\n",
              "    }\n",
              "\n",
              "    [theme=dark] .colab-df-convert:hover {\n",
              "      background-color: #434B5C;\n",
              "      box-shadow: 0px 1px 3px 1px rgba(0, 0, 0, 0.15);\n",
              "      filter: drop-shadow(0px 1px 2px rgba(0, 0, 0, 0.3));\n",
              "      fill: #FFFFFF;\n",
              "    }\n",
              "  </style>\n",
              "\n",
              "      <script>\n",
              "        const buttonEl =\n",
              "          document.querySelector('#df-fb565bd7-71f0-4f26-90a6-9ec21b2cb42e button.colab-df-convert');\n",
              "        buttonEl.style.display =\n",
              "          google.colab.kernel.accessAllowed ? 'block' : 'none';\n",
              "\n",
              "        async function convertToInteractive(key) {\n",
              "          const element = document.querySelector('#df-fb565bd7-71f0-4f26-90a6-9ec21b2cb42e');\n",
              "          const dataTable =\n",
              "            await google.colab.kernel.invokeFunction('convertToInteractive',\n",
              "                                                     [key], {});\n",
              "          if (!dataTable) return;\n",
              "\n",
              "          const docLinkHtml = 'Like what you see? Visit the ' +\n",
              "            '<a target=\"_blank\" href=https://colab.research.google.com/notebooks/data_table.ipynb>data table notebook</a>'\n",
              "            + ' to learn more about interactive tables.';\n",
              "          element.innerHTML = '';\n",
              "          dataTable['output_type'] = 'display_data';\n",
              "          await google.colab.output.renderOutput(dataTable, element);\n",
              "          const docLink = document.createElement('div');\n",
              "          docLink.innerHTML = docLinkHtml;\n",
              "          element.appendChild(docLink);\n",
              "        }\n",
              "      </script>\n",
              "    </div>\n",
              "  </div>\n",
              "  "
            ]
          },
          "metadata": {},
          "execution_count": 84
        }
      ]
    },
    {
      "cell_type": "markdown",
      "source": [
        "### Vocabulary \n",
        "\n",
        "Finding subsets of rows and columns of data using the pandas library is quite straight forward, but what if we want to know something more complex that requires processing a column of data. \n",
        "\n",
        "We may want to know the list of the single word (1-gram) **vocabulary** words in the sentence column.\n",
        "\n",
        "Let's first try just using a simple list of 2 sentences.  \n",
        "sentences = ['John likes ice cream', 'John hates chocolate.']\n",
        "\n",
        "The **vocabulary** is ['John', 'likes', 'ice', 'cream', 'hates', 'chocolate'] \n",
        "\n",
        "However, in this lesson we also want to learn n-grams, that is words that appear frequently together, and use that positional awareness to train our model. \n",
        "\n",
        "We will use a **TfidfVectorizer** from **sklearn** this time.\n",
        "\n",
        "General URL to sklearn: https://scikit-learn.org/stable/ \n",
        "In the search box, you can type \"TfidfVectorizer\" \n",
        "\n",
        "**TfidfVectorizer** is in sklearn.feature_extraction.text \n",
        "In the previous lesson, we created our own custom features. In this case, we are going to use sklearn to provide some features. "
      ],
      "metadata": {
        "id": "ga-NJG46E1i2"
      }
    },
    {
      "cell_type": "code",
      "source": [
        "# Use sklearn TfidfVectorizer to find the vocabulary in our small list of sentences\n",
        "from sklearn.feature_extraction.text import TfidfVectorizer\n",
        "\n",
        "sentences = ['John likes ice cream', 'John hates chocolate.']\n",
        "\n",
        "small_vectorizer = TfidfVectorizer(min_df=MIN_DF, ngram_range=(1, 3), \n",
        "    lowercase=LOWERCASE, max_features=MAX_FEATURES, use_idf=True)\n",
        "small_vectorizer.fit(sentences)\n",
        "small_vectorizer.vocabulary_"
      ],
      "metadata": {
        "id": "kYIVckH-DI-G",
        "colab": {
          "base_uri": "https://localhost:8080/"
        },
        "outputId": "ab029696-b49e-4275-8a93-5236b104c1c5"
      },
      "execution_count": null,
      "outputs": [
        {
          "output_type": "execute_result",
          "data": {
            "text/plain": [
              "{'John': 0,\n",
              " 'likes': 11,\n",
              " 'ice': 9,\n",
              " 'cream': 6,\n",
              " 'John likes': 3,\n",
              " 'likes ice': 12,\n",
              " 'ice cream': 10,\n",
              " 'John likes ice': 4,\n",
              " 'likes ice cream': 13,\n",
              " 'hates': 7,\n",
              " 'chocolate': 5,\n",
              " 'John hates': 1,\n",
              " 'hates chocolate': 8,\n",
              " 'John hates chocolate': 2}"
            ]
          },
          "metadata": {},
          "execution_count": 85
        }
      ]
    },
    {
      "cell_type": "code",
      "source": [
        "# How many vocabulary words are there?  Notice our vocablary words now \n",
        "# include bi-grams (like \"ice cream\") and tri-grams (like \"likes ice cream\")\n",
        "# Our vocabulary size is therefore larger.  \n",
        "len(small_vectorizer.vocabulary_)"
      ],
      "metadata": {
        "id": "B1d69NYaNN1l",
        "colab": {
          "base_uri": "https://localhost:8080/"
        },
        "outputId": "4a6bf939-b795-465d-a3fd-c587d9a941ad"
      },
      "execution_count": null,
      "outputs": [
        {
          "output_type": "execute_result",
          "data": {
            "text/plain": [
              "14"
            ]
          },
          "metadata": {},
          "execution_count": 86
        }
      ]
    },
    {
      "cell_type": "code",
      "source": [
        "# Use sklearn TfidfVectorizer to find the vocabulary of our full dataset\n",
        "from sklearn.feature_extraction.text import TfidfVectorizer\n",
        "\n",
        "sentences = df['sentence'].tolist()\n",
        "\n",
        "vectorizer = TfidfVectorizer(min_df=MIN_DF, ngram_range=(1,3), \n",
        "  lowercase=LOWERCASE, max_features=MAX_FEATURES,use_idf=True)\n",
        "vectorizer.fit(sentences) # train the vectorizer\n",
        "# uncomment the following line to see vocabulary of our entire dataset\n",
        "# warning it is very long, and cuts off at 5000 (and you'll want to recomment \n",
        "# the line after and run the cell again\n",
        "#vectorizer.vocabulary_, width=79, compact=True"
      ],
      "metadata": {
        "id": "kcf4Q29CHwvh",
        "colab": {
          "base_uri": "https://localhost:8080/"
        },
        "outputId": "1bbf924d-09f2-41cc-9161-7390f88fa183"
      },
      "execution_count": null,
      "outputs": [
        {
          "output_type": "execute_result",
          "data": {
            "text/plain": [
              "TfidfVectorizer(lowercase=False, max_features=50000, min_df=0.05,\n",
              "                ngram_range=(1, 3))"
            ]
          },
          "metadata": {},
          "execution_count": 87
        }
      ]
    },
    {
      "cell_type": "markdown",
      "source": [
        "### Create a Feature Vector using TfidfVectorizer\n",
        "\n",
        "The TfIdfVectorizer performs tokenization and creates a feature vector.  \n",
        "\n",
        "\n",
        "Let's build describes our sample sentences using the transform() method on our trained TfidfVectorizer().  We have two sentences, so we get an array with 2 rows.  We have 14 vocabulary n-grams, so we have 14 columns. Each column is a count for the number of times a specific vocabulary n-gram exists in the sample sentence.  The first column (index 0) will be the count of the number of times the word 'John' is in the sentence.  The second column (index 1) will be the count of the number of times the word 'John hates' is in the sentence, etc.\n",
        "\n",
        "\n",
        "\n"
      ],
      "metadata": {
        "id": "AYYj4XVWLfr1"
      }
    },
    {
      "cell_type": "code",
      "source": [
        "small_vectorizer.vocabulary_"
      ],
      "metadata": {
        "id": "j_Q_cYPrPblE",
        "colab": {
          "base_uri": "https://localhost:8080/"
        },
        "outputId": "8399702d-b5cc-4e6f-ecc3-9e1d83602381"
      },
      "execution_count": null,
      "outputs": [
        {
          "output_type": "execute_result",
          "data": {
            "text/plain": [
              "{'John': 0,\n",
              " 'likes': 11,\n",
              " 'ice': 9,\n",
              " 'cream': 6,\n",
              " 'John likes': 3,\n",
              " 'likes ice': 12,\n",
              " 'ice cream': 10,\n",
              " 'John likes ice': 4,\n",
              " 'likes ice cream': 13,\n",
              " 'hates': 7,\n",
              " 'chocolate': 5,\n",
              " 'John hates': 1,\n",
              " 'hates chocolate': 8,\n",
              " 'John hates chocolate': 2}"
            ]
          },
          "metadata": {},
          "execution_count": 88
        }
      ]
    },
    {
      "cell_type": "code",
      "source": [
        "# how many vocabulary n-grams\n",
        "len(small_vectorizer.vocabulary_)"
      ],
      "metadata": {
        "id": "-JqJff2fu7V6",
        "colab": {
          "base_uri": "https://localhost:8080/"
        },
        "outputId": "c9de095b-f6ad-42d1-b418-8dfe9e8db325"
      },
      "execution_count": null,
      "outputs": [
        {
          "output_type": "execute_result",
          "data": {
            "text/plain": [
              "14"
            ]
          },
          "metadata": {},
          "execution_count": 89
        }
      ]
    },
    {
      "cell_type": "code",
      "source": [
        "# Let's build a feature vector that describes our sample sentences.\n",
        "# This provides an array where each entry is the count or number of times \n",
        "# the vocabulary word associated with the column is in the sentence\n",
        "sentences = ['John likes ice cream', 'John hates chocolate.']\n",
        "small_vectorizer.transform(sentences).toarray()"
      ],
      "metadata": {
        "id": "m4Uvkm3jLt-6",
        "colab": {
          "base_uri": "https://localhost:8080/"
        },
        "outputId": "05fc2d31-8253-4eaa-8844-58436a40ca1b"
      },
      "execution_count": null,
      "outputs": [
        {
          "output_type": "execute_result",
          "data": {
            "text/plain": [
              "array([[0.24395573, 0.        , 0.        , 0.34287126, 0.34287126,\n",
              "        0.        , 0.34287126, 0.        , 0.        , 0.34287126,\n",
              "        0.34287126, 0.34287126, 0.34287126, 0.34287126],\n",
              "       [0.30321606, 0.4261596 , 0.4261596 , 0.        , 0.        ,\n",
              "        0.4261596 , 0.        , 0.4261596 , 0.4261596 , 0.        ,\n",
              "        0.        , 0.        , 0.        , 0.        ]])"
            ]
          },
          "metadata": {},
          "execution_count": 90
        }
      ]
    },
    {
      "cell_type": "code",
      "source": [
        "# Let's try adding a few more words to our example sentences so we have \n",
        "# duplicate words in some sentences.\n",
        "\n",
        "sentences = ['John likes ice cream, and eats ice cream daily.', \n",
        "             'John hates, hates, hates chocolate.']\n",
        "small_vectorizer.transform(sentences).toarray()"
      ],
      "metadata": {
        "id": "mF5uP4DDR-i2",
        "colab": {
          "base_uri": "https://localhost:8080/"
        },
        "outputId": "28fc0d63-3c2d-4de5-f0d3-e4523752f4d8"
      },
      "execution_count": null,
      "outputs": [
        {
          "output_type": "execute_result",
          "data": {
            "text/plain": [
              "array([[0.17005267, 0.        , 0.        , 0.23900309, 0.23900309,\n",
              "        0.        , 0.47800618, 0.        , 0.        , 0.47800618,\n",
              "        0.47800618, 0.23900309, 0.23900309, 0.23900309],\n",
              "       [0.20119468, 0.2827721 , 0.        , 0.        , 0.        ,\n",
              "        0.2827721 , 0.        , 0.84831629, 0.2827721 , 0.        ,\n",
              "        0.        , 0.        , 0.        , 0.        ]])"
            ]
          },
          "metadata": {},
          "execution_count": 91
        }
      ]
    },
    {
      "cell_type": "code",
      "source": [
        "# We can just as easily create feature vectors for all sentences in our dataframe\n",
        "# Here we see that sklearn, knowing that there are mostly zeros in the array, \n",
        "# used a sparce object to represent the array. \n",
        "vectorizer.transform(df['sentence'].tolist())"
      ],
      "metadata": {
        "id": "QKpcqzDGRclq",
        "colab": {
          "base_uri": "https://localhost:8080/"
        },
        "outputId": "9558e352-7ac3-45de-abaf-1a4817967a4b"
      },
      "execution_count": null,
      "outputs": [
        {
          "output_type": "execute_result",
          "data": {
            "text/plain": [
              "<2748x27 sparse matrix of type '<class 'numpy.float64'>'\n",
              "\twith 8624 stored elements in Compressed Sparse Row format>"
            ]
          },
          "metadata": {},
          "execution_count": 92
        }
      ]
    },
    {
      "cell_type": "markdown",
      "source": [
        "## Build a Baseline Model\n",
        "\n",
        "When you work with machine learning, one important step is to define a **baseline model**. The baseline model is a simple model that can be quickly created.  It is used to compare more advanced models that you want to experiment with.  In our case, we will compare the baseline model with more advanced methods using (deep) neural network models.  \n",
        "\n",
        "We will start by taking our dataframe of labeled data.  We will start by just looking at data sourced from 'yelp' to train and test our model.  This is mostly an arbitrary decision."
      ],
      "metadata": {
        "id": "ufffYEao_cbl"
      }
    },
    {
      "cell_type": "markdown",
      "source": [
        "### Train/Test Split\n",
        "\n",
        "We will split our data into a training set and a test set.  We will use a customary split, that is 80% of our data will be for training our model, and 20% of our data for testing our model.  After we train on the training data, we will evaluate how good our model is using the set of test data that the model has not seen yet.  \n",
        "\n",
        "We split the data randomly, so that any ordering in how the data is collected (which often occurs in real datasets) will not impact the results.   \n",
        "\n",
        "We use the train_test_split() method from sklearn to randomly split our data.  We pass random_state = 1000 which serves as a random number seed for randomizing the selection.  By selecting a specific random number seed, we can have consistent/reproducible results.  Each time we use the same random_state, we will split the data in the same way.  The actual value chosen for random_state is arbitrary."
      ],
      "metadata": {
        "id": "EfuDSDCrVv0m"
      }
    },
    {
      "cell_type": "code",
      "source": [
        "from sklearn.model_selection import train_test_split\n",
        "\n",
        "# Build a pandas Dataframe for just yelp data.\n",
        "df_yelp = df[df['source'] == 'yelp']\n",
        "\n",
        "# Get a list of sentences from our 'yelp' sourced data\n",
        "sentences = df_yelp['sentence'].values\n",
        "# Get the corresponding 'label' values 0 or 1 for each of these sentences\n",
        "y = df_yelp['label'].values\n",
        "\n",
        "# split the data into train/test with 80% train, and 20% test\n",
        "sentences_train, sentences_test, y_train, y_test = train_test_split(\n",
        "  sentences, y, test_size=0.2, random_state=1000)"
      ],
      "metadata": {
        "id": "Cris0DXEE3im"
      },
      "execution_count": null,
      "outputs": []
    },
    {
      "cell_type": "markdown",
      "source": [
        "### Train TfidfVectorizer and Build Feature Vectors\n",
        "\n",
        "Train the TfidfVectorizer on the sentences in our training data.  The fit() method does the training. \n",
        "\n",
        "Create our features vectors (numerical arrays) for our training set and testing set using the transform() method.\n",
        "\n",
        "We will use X_train, X_test variables names for our numeric feature vectors.  "
      ],
      "metadata": {
        "id": "oesSe1ptWD9p"
      }
    },
    {
      "cell_type": "code",
      "source": [
        "from sklearn.feature_extraction.text import TfidfVectorizer\n",
        "\n",
        "# train TfidfVectorizer with ngrams=(1,3), and setting a max_features to avoid explosion of features\n",
        "vectorizer_yelp = TfidfVectorizer(min_df=MIN_DF,ngram_range=(1,3),\n",
        "  lowercase=LOWERCASE,max_features=MAX_FEATURES,use_idf=True)\n",
        "vectorizer_yelp.fit(sentences_train)\n",
        "\n",
        "# build our feature vectors (numerical arrays)\n",
        "X_all = vectorizer_yelp.transform(sentences)\n",
        "X_train_yelp = vectorizer_yelp.transform(sentences_train)\n",
        "X_test_yelp = vectorizer_yelp.transform(sentences_test)\n",
        "X_train_yelp"
      ],
      "metadata": {
        "id": "A6syjcgRFEbF",
        "colab": {
          "base_uri": "https://localhost:8080/"
        },
        "outputId": "1665b4cf-0635-4862-bf6a-16bc0512beac"
      },
      "execution_count": null,
      "outputs": [
        {
          "output_type": "execute_result",
          "data": {
            "text/plain": [
              "<800x29 sparse matrix of type '<class 'numpy.float64'>'\n",
              "\twith 2553 stored elements in Compressed Sparse Row format>"
            ]
          },
          "metadata": {},
          "execution_count": 94
        }
      ]
    },
    {
      "cell_type": "markdown",
      "source": [
        "### Consider our Feature Vectors\n",
        "\n",
        "We can see that the feature vectors in X_train still has 800 samples (representing the 800 sentences in our training data) after the train/test split.  The number of columns represents the vocabulary n-grams in our training data.  So each of the sentences is represented by a vector of decimal numbers. \n",
        "\n",
        "Note: If we had not chosen 80% train and 20% test or if we chose a different random number seed (random_state) we would have a larger or smaller number of vocabulary words.  Also, you can see that we get a sparse matrix. This is a data type that is optimized for matrices with only a few non-zero elements, which only keeps track of the non-zero elements reducing the memory load."
      ],
      "metadata": {
        "id": "o39mm3RDXbo4"
      }
    },
    {
      "cell_type": "markdown",
      "source": [
        "### Build LogisticRegression Model as Baseline\n",
        "\n",
        "The classification model we are going to use is the logistic regression which is a simple yet powerful linear model that is mathematically speaking in fact a form of regression between 0 and 1 based on the input feature vector. By specifying a cutoff value (by default 0.5), the regression model is used for classification. \n",
        "\n",
        "This is a fairly arbitrary decision. "
      ],
      "metadata": {
        "id": "JHkioGGxWqli"
      }
    },
    {
      "cell_type": "code",
      "source": [
        "from sklearn.linear_model import LogisticRegression\n",
        "\n",
        "classifier_yelp = LogisticRegression()\n",
        "classifier_yelp.fit(X_train_yelp, y_train) # train our classifier \n",
        "score = classifier_yelp.score(X_test_yelp, y_test) # score our classifier on test data\n",
        "\n",
        "print(\"Accuracy of our Yelp data only model:\", score)"
      ],
      "metadata": {
        "id": "z5UQ9oHGFe4I",
        "colab": {
          "base_uri": "https://localhost:8080/"
        },
        "outputId": "eae49c1f-ae91-457d-85c0-e2be45f1bd07"
      },
      "execution_count": null,
      "outputs": [
        {
          "output_type": "stream",
          "name": "stdout",
          "text": [
            "Accuracy of our Yelp data only model: 0.59\n"
          ]
        }
      ]
    },
    {
      "cell_type": "code",
      "source": [
        "df[df['source']=='yelp'][:10]"
      ],
      "metadata": {
        "id": "M2K03XkgbiRw",
        "colab": {
          "base_uri": "https://localhost:8080/",
          "height": 363
        },
        "outputId": "1c894b4b-b44f-4e1a-bdad-2e9b24e3de1c"
      },
      "execution_count": null,
      "outputs": [
        {
          "output_type": "execute_result",
          "data": {
            "text/plain": [
              "                                            sentence  label source\n",
              "0                           Wow... Loved this place.      1   yelp\n",
              "1                                 Crust is not good.      0   yelp\n",
              "2          Not tasty and the texture was just nasty.      0   yelp\n",
              "3  Stopped by during the late May bank holiday of...      1   yelp\n",
              "4  The selection on the menu was great and so wer...      1   yelp\n",
              "5     Now I am getting angry and I want my damn pho.      0   yelp\n",
              "6              Honeslty it didn't taste THAT fresh.)      0   yelp\n",
              "7  The potatoes were like rubber and you could te...      0   yelp\n",
              "8                          The fries were great too.      1   yelp\n",
              "9                                     A great touch.      1   yelp"
            ],
            "text/html": [
              "\n",
              "  <div id=\"df-5419dc76-7238-44bb-ad2c-6b53f81499a0\">\n",
              "    <div class=\"colab-df-container\">\n",
              "      <div>\n",
              "<style scoped>\n",
              "    .dataframe tbody tr th:only-of-type {\n",
              "        vertical-align: middle;\n",
              "    }\n",
              "\n",
              "    .dataframe tbody tr th {\n",
              "        vertical-align: top;\n",
              "    }\n",
              "\n",
              "    .dataframe thead th {\n",
              "        text-align: right;\n",
              "    }\n",
              "</style>\n",
              "<table border=\"1\" class=\"dataframe\">\n",
              "  <thead>\n",
              "    <tr style=\"text-align: right;\">\n",
              "      <th></th>\n",
              "      <th>sentence</th>\n",
              "      <th>label</th>\n",
              "      <th>source</th>\n",
              "    </tr>\n",
              "  </thead>\n",
              "  <tbody>\n",
              "    <tr>\n",
              "      <th>0</th>\n",
              "      <td>Wow... Loved this place.</td>\n",
              "      <td>1</td>\n",
              "      <td>yelp</td>\n",
              "    </tr>\n",
              "    <tr>\n",
              "      <th>1</th>\n",
              "      <td>Crust is not good.</td>\n",
              "      <td>0</td>\n",
              "      <td>yelp</td>\n",
              "    </tr>\n",
              "    <tr>\n",
              "      <th>2</th>\n",
              "      <td>Not tasty and the texture was just nasty.</td>\n",
              "      <td>0</td>\n",
              "      <td>yelp</td>\n",
              "    </tr>\n",
              "    <tr>\n",
              "      <th>3</th>\n",
              "      <td>Stopped by during the late May bank holiday of...</td>\n",
              "      <td>1</td>\n",
              "      <td>yelp</td>\n",
              "    </tr>\n",
              "    <tr>\n",
              "      <th>4</th>\n",
              "      <td>The selection on the menu was great and so wer...</td>\n",
              "      <td>1</td>\n",
              "      <td>yelp</td>\n",
              "    </tr>\n",
              "    <tr>\n",
              "      <th>5</th>\n",
              "      <td>Now I am getting angry and I want my damn pho.</td>\n",
              "      <td>0</td>\n",
              "      <td>yelp</td>\n",
              "    </tr>\n",
              "    <tr>\n",
              "      <th>6</th>\n",
              "      <td>Honeslty it didn't taste THAT fresh.)</td>\n",
              "      <td>0</td>\n",
              "      <td>yelp</td>\n",
              "    </tr>\n",
              "    <tr>\n",
              "      <th>7</th>\n",
              "      <td>The potatoes were like rubber and you could te...</td>\n",
              "      <td>0</td>\n",
              "      <td>yelp</td>\n",
              "    </tr>\n",
              "    <tr>\n",
              "      <th>8</th>\n",
              "      <td>The fries were great too.</td>\n",
              "      <td>1</td>\n",
              "      <td>yelp</td>\n",
              "    </tr>\n",
              "    <tr>\n",
              "      <th>9</th>\n",
              "      <td>A great touch.</td>\n",
              "      <td>1</td>\n",
              "      <td>yelp</td>\n",
              "    </tr>\n",
              "  </tbody>\n",
              "</table>\n",
              "</div>\n",
              "      <button class=\"colab-df-convert\" onclick=\"convertToInteractive('df-5419dc76-7238-44bb-ad2c-6b53f81499a0')\"\n",
              "              title=\"Convert this dataframe to an interactive table.\"\n",
              "              style=\"display:none;\">\n",
              "        \n",
              "  <svg xmlns=\"http://www.w3.org/2000/svg\" height=\"24px\"viewBox=\"0 0 24 24\"\n",
              "       width=\"24px\">\n",
              "    <path d=\"M0 0h24v24H0V0z\" fill=\"none\"/>\n",
              "    <path d=\"M18.56 5.44l.94 2.06.94-2.06 2.06-.94-2.06-.94-.94-2.06-.94 2.06-2.06.94zm-11 1L8.5 8.5l.94-2.06 2.06-.94-2.06-.94L8.5 2.5l-.94 2.06-2.06.94zm10 10l.94 2.06.94-2.06 2.06-.94-2.06-.94-.94-2.06-.94 2.06-2.06.94z\"/><path d=\"M17.41 7.96l-1.37-1.37c-.4-.4-.92-.59-1.43-.59-.52 0-1.04.2-1.43.59L10.3 9.45l-7.72 7.72c-.78.78-.78 2.05 0 2.83L4 21.41c.39.39.9.59 1.41.59.51 0 1.02-.2 1.41-.59l7.78-7.78 2.81-2.81c.8-.78.8-2.07 0-2.86zM5.41 20L4 18.59l7.72-7.72 1.47 1.35L5.41 20z\"/>\n",
              "  </svg>\n",
              "      </button>\n",
              "      \n",
              "  <style>\n",
              "    .colab-df-container {\n",
              "      display:flex;\n",
              "      flex-wrap:wrap;\n",
              "      gap: 12px;\n",
              "    }\n",
              "\n",
              "    .colab-df-convert {\n",
              "      background-color: #E8F0FE;\n",
              "      border: none;\n",
              "      border-radius: 50%;\n",
              "      cursor: pointer;\n",
              "      display: none;\n",
              "      fill: #1967D2;\n",
              "      height: 32px;\n",
              "      padding: 0 0 0 0;\n",
              "      width: 32px;\n",
              "    }\n",
              "\n",
              "    .colab-df-convert:hover {\n",
              "      background-color: #E2EBFA;\n",
              "      box-shadow: 0px 1px 2px rgba(60, 64, 67, 0.3), 0px 1px 3px 1px rgba(60, 64, 67, 0.15);\n",
              "      fill: #174EA6;\n",
              "    }\n",
              "\n",
              "    [theme=dark] .colab-df-convert {\n",
              "      background-color: #3B4455;\n",
              "      fill: #D2E3FC;\n",
              "    }\n",
              "\n",
              "    [theme=dark] .colab-df-convert:hover {\n",
              "      background-color: #434B5C;\n",
              "      box-shadow: 0px 1px 3px 1px rgba(0, 0, 0, 0.15);\n",
              "      filter: drop-shadow(0px 1px 2px rgba(0, 0, 0, 0.3));\n",
              "      fill: #FFFFFF;\n",
              "    }\n",
              "  </style>\n",
              "\n",
              "      <script>\n",
              "        const buttonEl =\n",
              "          document.querySelector('#df-5419dc76-7238-44bb-ad2c-6b53f81499a0 button.colab-df-convert');\n",
              "        buttonEl.style.display =\n",
              "          google.colab.kernel.accessAllowed ? 'block' : 'none';\n",
              "\n",
              "        async function convertToInteractive(key) {\n",
              "          const element = document.querySelector('#df-5419dc76-7238-44bb-ad2c-6b53f81499a0');\n",
              "          const dataTable =\n",
              "            await google.colab.kernel.invokeFunction('convertToInteractive',\n",
              "                                                     [key], {});\n",
              "          if (!dataTable) return;\n",
              "\n",
              "          const docLinkHtml = 'Like what you see? Visit the ' +\n",
              "            '<a target=\"_blank\" href=https://colab.research.google.com/notebooks/data_table.ipynb>data table notebook</a>'\n",
              "            + ' to learn more about interactive tables.';\n",
              "          element.innerHTML = '';\n",
              "          dataTable['output_type'] = 'display_data';\n",
              "          await google.colab.output.renderOutput(dataTable, element);\n",
              "          const docLink = document.createElement('div');\n",
              "          docLink.innerHTML = docLinkHtml;\n",
              "          element.appendChild(docLink);\n",
              "        }\n",
              "      </script>\n",
              "    </div>\n",
              "  </div>\n",
              "  "
            ]
          },
          "metadata": {},
          "execution_count": 96
        }
      ]
    },
    {
      "cell_type": "code",
      "source": [
        "def explore_yelp_classifier(user_sentence):\n",
        "  \"\"\" explore the yelp classifier results \"\"\"\n",
        "  X_user  = vectorizer_yelp.transform([user_sentence])\n",
        "  # We needed an array that is 1 x our vocabulary size to predict()\n",
        "  # so we added [] around our user_sentence.\n",
        "  # print(X_user.shape)  # uncomment this to see th shape of the X_user\n",
        "  # now use the predict() to predict all of our inputs                                 \n",
        "  result = classifier_yelp.predict(X_user)\n",
        "  # predict() returns a list of predicted results, since we only have one input\n",
        "  # we index on [0]\n",
        "  # print(result[0])\n",
        "  # We can display a nicer message since we know what these labels mean.\n",
        "  if result[0] == 1:\n",
        "    predicted_sentiment = \"positive\"\n",
        "  else:\n",
        "    predicted_sentiment = \"negative\"\n",
        "  print(f\"Utterance: {user_sentence}\")\n",
        "  print(f\"Predicted Sentiment: {predicted_sentiment}\")"
      ],
      "metadata": {
        "id": "EjLZZSIVeUqi"
      },
      "execution_count": null,
      "outputs": []
    },
    {
      "cell_type": "code",
      "source": [
        "# Let's try some examples\n",
        "explore_yelp_classifier(\"I hate peas.\")"
      ],
      "metadata": {
        "id": "GzMNNayZejLr",
        "colab": {
          "base_uri": "https://localhost:8080/"
        },
        "outputId": "074a8a7a-6d1f-47b5-e54d-e31fb82ac986"
      },
      "execution_count": null,
      "outputs": [
        {
          "output_type": "stream",
          "name": "stdout",
          "text": [
            "Utterance: I hate peas.\n",
            "Predicted Sentiment: negative\n"
          ]
        }
      ]
    },
    {
      "cell_type": "code",
      "source": [
        "# Here is a sentence that our classifier gets wrong.\n",
        "# It uses \"not\" and \"hate\" both are negative words, but \"not hate\" is \n",
        "# intuitively positive.  This error is due to using Bag-of-Words to create \n",
        "# our feature vectors.  \n",
        "explore_yelp_classifier(\"I do not hate peas.\")"
      ],
      "metadata": {
        "id": "7Qc_NDdkex0K",
        "colab": {
          "base_uri": "https://localhost:8080/"
        },
        "outputId": "c75436f2-1439-489b-f659-01b9f5b16808"
      },
      "execution_count": null,
      "outputs": [
        {
          "output_type": "stream",
          "name": "stdout",
          "text": [
            "Utterance: I do not hate peas.\n",
            "Predicted Sentiment: negative\n"
          ]
        }
      ]
    },
    {
      "cell_type": "code",
      "source": [
        "# Try some of your own examples ! \n",
        "explore_yelp_classifier(\"your text here\")"
      ],
      "metadata": {
        "id": "6sxd3_z6fH4r",
        "colab": {
          "base_uri": "https://localhost:8080/"
        },
        "outputId": "3a9422ec-c561-4373-dc30-56b55902cdba"
      },
      "execution_count": null,
      "outputs": [
        {
          "output_type": "stream",
          "name": "stdout",
          "text": [
            "Utterance: your text here\n",
            "Predicted Sentiment: negative\n"
          ]
        }
      ]
    },
    {
      "cell_type": "code",
      "source": [
        "# Add the model predictions to the dataframe\n",
        "df['predict'] = classifier_yelp.predict(vectorizer_yelp.transform(df['sentence'].tolist()))"
      ],
      "metadata": {
        "id": "FGo_GEJmDlnq"
      },
      "execution_count": null,
      "outputs": []
    },
    {
      "cell_type": "code",
      "source": [
        "# Dataframe where the model predicted correctly\n",
        "df_correct = df[df['predict'] == df['label']]"
      ],
      "metadata": {
        "id": "On2DjMoaDX16"
      },
      "execution_count": null,
      "outputs": []
    },
    {
      "cell_type": "code",
      "source": [
        "# Look at some correct predictions\n",
        "df_correct[:10]"
      ],
      "metadata": {
        "id": "Bg-tC__3E6_e",
        "colab": {
          "base_uri": "https://localhost:8080/",
          "height": 363
        },
        "outputId": "52ab5e6a-c28f-4ec8-cf47-7be185f0f8a0"
      },
      "execution_count": null,
      "outputs": [
        {
          "output_type": "execute_result",
          "data": {
            "text/plain": [
              "                                             sentence  label source  predict\n",
              "0                            Wow... Loved this place.      1   yelp        1\n",
              "1                                  Crust is not good.      0   yelp        0\n",
              "3   Stopped by during the late May bank holiday of...      1   yelp        1\n",
              "4   The selection on the menu was great and so wer...      1   yelp        1\n",
              "6               Honeslty it didn't taste THAT fresh.)      0   yelp        0\n",
              "8                           The fries were great too.      1   yelp        1\n",
              "10                           Service was very prompt.      1   yelp        1\n",
              "11                                 Would not go back.      0   yelp        0\n",
              "12  The cashier had no care what so ever on what I...      0   yelp        0\n",
              "13  I tried the Cape Cod ravoli, chicken,with cran...      1   yelp        1"
            ],
            "text/html": [
              "\n",
              "  <div id=\"df-d3ad09fd-1660-43c6-8611-2f3165349eb3\">\n",
              "    <div class=\"colab-df-container\">\n",
              "      <div>\n",
              "<style scoped>\n",
              "    .dataframe tbody tr th:only-of-type {\n",
              "        vertical-align: middle;\n",
              "    }\n",
              "\n",
              "    .dataframe tbody tr th {\n",
              "        vertical-align: top;\n",
              "    }\n",
              "\n",
              "    .dataframe thead th {\n",
              "        text-align: right;\n",
              "    }\n",
              "</style>\n",
              "<table border=\"1\" class=\"dataframe\">\n",
              "  <thead>\n",
              "    <tr style=\"text-align: right;\">\n",
              "      <th></th>\n",
              "      <th>sentence</th>\n",
              "      <th>label</th>\n",
              "      <th>source</th>\n",
              "      <th>predict</th>\n",
              "    </tr>\n",
              "  </thead>\n",
              "  <tbody>\n",
              "    <tr>\n",
              "      <th>0</th>\n",
              "      <td>Wow... Loved this place.</td>\n",
              "      <td>1</td>\n",
              "      <td>yelp</td>\n",
              "      <td>1</td>\n",
              "    </tr>\n",
              "    <tr>\n",
              "      <th>1</th>\n",
              "      <td>Crust is not good.</td>\n",
              "      <td>0</td>\n",
              "      <td>yelp</td>\n",
              "      <td>0</td>\n",
              "    </tr>\n",
              "    <tr>\n",
              "      <th>3</th>\n",
              "      <td>Stopped by during the late May bank holiday of...</td>\n",
              "      <td>1</td>\n",
              "      <td>yelp</td>\n",
              "      <td>1</td>\n",
              "    </tr>\n",
              "    <tr>\n",
              "      <th>4</th>\n",
              "      <td>The selection on the menu was great and so wer...</td>\n",
              "      <td>1</td>\n",
              "      <td>yelp</td>\n",
              "      <td>1</td>\n",
              "    </tr>\n",
              "    <tr>\n",
              "      <th>6</th>\n",
              "      <td>Honeslty it didn't taste THAT fresh.)</td>\n",
              "      <td>0</td>\n",
              "      <td>yelp</td>\n",
              "      <td>0</td>\n",
              "    </tr>\n",
              "    <tr>\n",
              "      <th>8</th>\n",
              "      <td>The fries were great too.</td>\n",
              "      <td>1</td>\n",
              "      <td>yelp</td>\n",
              "      <td>1</td>\n",
              "    </tr>\n",
              "    <tr>\n",
              "      <th>10</th>\n",
              "      <td>Service was very prompt.</td>\n",
              "      <td>1</td>\n",
              "      <td>yelp</td>\n",
              "      <td>1</td>\n",
              "    </tr>\n",
              "    <tr>\n",
              "      <th>11</th>\n",
              "      <td>Would not go back.</td>\n",
              "      <td>0</td>\n",
              "      <td>yelp</td>\n",
              "      <td>0</td>\n",
              "    </tr>\n",
              "    <tr>\n",
              "      <th>12</th>\n",
              "      <td>The cashier had no care what so ever on what I...</td>\n",
              "      <td>0</td>\n",
              "      <td>yelp</td>\n",
              "      <td>0</td>\n",
              "    </tr>\n",
              "    <tr>\n",
              "      <th>13</th>\n",
              "      <td>I tried the Cape Cod ravoli, chicken,with cran...</td>\n",
              "      <td>1</td>\n",
              "      <td>yelp</td>\n",
              "      <td>1</td>\n",
              "    </tr>\n",
              "  </tbody>\n",
              "</table>\n",
              "</div>\n",
              "      <button class=\"colab-df-convert\" onclick=\"convertToInteractive('df-d3ad09fd-1660-43c6-8611-2f3165349eb3')\"\n",
              "              title=\"Convert this dataframe to an interactive table.\"\n",
              "              style=\"display:none;\">\n",
              "        \n",
              "  <svg xmlns=\"http://www.w3.org/2000/svg\" height=\"24px\"viewBox=\"0 0 24 24\"\n",
              "       width=\"24px\">\n",
              "    <path d=\"M0 0h24v24H0V0z\" fill=\"none\"/>\n",
              "    <path d=\"M18.56 5.44l.94 2.06.94-2.06 2.06-.94-2.06-.94-.94-2.06-.94 2.06-2.06.94zm-11 1L8.5 8.5l.94-2.06 2.06-.94-2.06-.94L8.5 2.5l-.94 2.06-2.06.94zm10 10l.94 2.06.94-2.06 2.06-.94-2.06-.94-.94-2.06-.94 2.06-2.06.94z\"/><path d=\"M17.41 7.96l-1.37-1.37c-.4-.4-.92-.59-1.43-.59-.52 0-1.04.2-1.43.59L10.3 9.45l-7.72 7.72c-.78.78-.78 2.05 0 2.83L4 21.41c.39.39.9.59 1.41.59.51 0 1.02-.2 1.41-.59l7.78-7.78 2.81-2.81c.8-.78.8-2.07 0-2.86zM5.41 20L4 18.59l7.72-7.72 1.47 1.35L5.41 20z\"/>\n",
              "  </svg>\n",
              "      </button>\n",
              "      \n",
              "  <style>\n",
              "    .colab-df-container {\n",
              "      display:flex;\n",
              "      flex-wrap:wrap;\n",
              "      gap: 12px;\n",
              "    }\n",
              "\n",
              "    .colab-df-convert {\n",
              "      background-color: #E8F0FE;\n",
              "      border: none;\n",
              "      border-radius: 50%;\n",
              "      cursor: pointer;\n",
              "      display: none;\n",
              "      fill: #1967D2;\n",
              "      height: 32px;\n",
              "      padding: 0 0 0 0;\n",
              "      width: 32px;\n",
              "    }\n",
              "\n",
              "    .colab-df-convert:hover {\n",
              "      background-color: #E2EBFA;\n",
              "      box-shadow: 0px 1px 2px rgba(60, 64, 67, 0.3), 0px 1px 3px 1px rgba(60, 64, 67, 0.15);\n",
              "      fill: #174EA6;\n",
              "    }\n",
              "\n",
              "    [theme=dark] .colab-df-convert {\n",
              "      background-color: #3B4455;\n",
              "      fill: #D2E3FC;\n",
              "    }\n",
              "\n",
              "    [theme=dark] .colab-df-convert:hover {\n",
              "      background-color: #434B5C;\n",
              "      box-shadow: 0px 1px 3px 1px rgba(0, 0, 0, 0.15);\n",
              "      filter: drop-shadow(0px 1px 2px rgba(0, 0, 0, 0.3));\n",
              "      fill: #FFFFFF;\n",
              "    }\n",
              "  </style>\n",
              "\n",
              "      <script>\n",
              "        const buttonEl =\n",
              "          document.querySelector('#df-d3ad09fd-1660-43c6-8611-2f3165349eb3 button.colab-df-convert');\n",
              "        buttonEl.style.display =\n",
              "          google.colab.kernel.accessAllowed ? 'block' : 'none';\n",
              "\n",
              "        async function convertToInteractive(key) {\n",
              "          const element = document.querySelector('#df-d3ad09fd-1660-43c6-8611-2f3165349eb3');\n",
              "          const dataTable =\n",
              "            await google.colab.kernel.invokeFunction('convertToInteractive',\n",
              "                                                     [key], {});\n",
              "          if (!dataTable) return;\n",
              "\n",
              "          const docLinkHtml = 'Like what you see? Visit the ' +\n",
              "            '<a target=\"_blank\" href=https://colab.research.google.com/notebooks/data_table.ipynb>data table notebook</a>'\n",
              "            + ' to learn more about interactive tables.';\n",
              "          element.innerHTML = '';\n",
              "          dataTable['output_type'] = 'display_data';\n",
              "          await google.colab.output.renderOutput(dataTable, element);\n",
              "          const docLink = document.createElement('div');\n",
              "          docLink.innerHTML = docLinkHtml;\n",
              "          element.appendChild(docLink);\n",
              "        }\n",
              "      </script>\n",
              "    </div>\n",
              "  </div>\n",
              "  "
            ]
          },
          "metadata": {},
          "execution_count": 103
        }
      ]
    },
    {
      "cell_type": "code",
      "source": [
        "# Dataframe where the model predicted incorrectly\n",
        "df_incorrect = df[df['predict'] != df['label']]"
      ],
      "metadata": {
        "id": "91ehSJO5Db9L"
      },
      "execution_count": null,
      "outputs": []
    },
    {
      "cell_type": "code",
      "source": [
        "# Look at some incorrect predictions\n",
        "df_incorrect[:10]"
      ],
      "metadata": {
        "id": "SqFhUR5NFDXy",
        "colab": {
          "base_uri": "https://localhost:8080/",
          "height": 363
        },
        "outputId": "b40ce3e7-947c-492f-fe49-88c95fbc6bdf"
      },
      "execution_count": null,
      "outputs": [
        {
          "output_type": "execute_result",
          "data": {
            "text/plain": [
              "                                             sentence  label source  predict\n",
              "2           Not tasty and the texture was just nasty.      0   yelp        1\n",
              "5      Now I am getting angry and I want my damn pho.      0   yelp        1\n",
              "7   The potatoes were like rubber and you could te...      0   yelp        1\n",
              "9                                      A great touch.      1   yelp        0\n",
              "16                                Highly recommended.      1   yelp        0\n",
              "21                                 The food, amazing.      1   yelp        0\n",
              "24                                 So they performed.      1   yelp        0\n",
              "29                  The worst was the salmon sashimi.      0   yelp        1\n",
              "31                      This was like the final blow!      0   yelp        1\n",
              "32  I found this place by accident and I could not...      1   yelp        0"
            ],
            "text/html": [
              "\n",
              "  <div id=\"df-2a428f57-4fc1-45fc-b3d3-f8af84a1ee37\">\n",
              "    <div class=\"colab-df-container\">\n",
              "      <div>\n",
              "<style scoped>\n",
              "    .dataframe tbody tr th:only-of-type {\n",
              "        vertical-align: middle;\n",
              "    }\n",
              "\n",
              "    .dataframe tbody tr th {\n",
              "        vertical-align: top;\n",
              "    }\n",
              "\n",
              "    .dataframe thead th {\n",
              "        text-align: right;\n",
              "    }\n",
              "</style>\n",
              "<table border=\"1\" class=\"dataframe\">\n",
              "  <thead>\n",
              "    <tr style=\"text-align: right;\">\n",
              "      <th></th>\n",
              "      <th>sentence</th>\n",
              "      <th>label</th>\n",
              "      <th>source</th>\n",
              "      <th>predict</th>\n",
              "    </tr>\n",
              "  </thead>\n",
              "  <tbody>\n",
              "    <tr>\n",
              "      <th>2</th>\n",
              "      <td>Not tasty and the texture was just nasty.</td>\n",
              "      <td>0</td>\n",
              "      <td>yelp</td>\n",
              "      <td>1</td>\n",
              "    </tr>\n",
              "    <tr>\n",
              "      <th>5</th>\n",
              "      <td>Now I am getting angry and I want my damn pho.</td>\n",
              "      <td>0</td>\n",
              "      <td>yelp</td>\n",
              "      <td>1</td>\n",
              "    </tr>\n",
              "    <tr>\n",
              "      <th>7</th>\n",
              "      <td>The potatoes were like rubber and you could te...</td>\n",
              "      <td>0</td>\n",
              "      <td>yelp</td>\n",
              "      <td>1</td>\n",
              "    </tr>\n",
              "    <tr>\n",
              "      <th>9</th>\n",
              "      <td>A great touch.</td>\n",
              "      <td>1</td>\n",
              "      <td>yelp</td>\n",
              "      <td>0</td>\n",
              "    </tr>\n",
              "    <tr>\n",
              "      <th>16</th>\n",
              "      <td>Highly recommended.</td>\n",
              "      <td>1</td>\n",
              "      <td>yelp</td>\n",
              "      <td>0</td>\n",
              "    </tr>\n",
              "    <tr>\n",
              "      <th>21</th>\n",
              "      <td>The food, amazing.</td>\n",
              "      <td>1</td>\n",
              "      <td>yelp</td>\n",
              "      <td>0</td>\n",
              "    </tr>\n",
              "    <tr>\n",
              "      <th>24</th>\n",
              "      <td>So they performed.</td>\n",
              "      <td>1</td>\n",
              "      <td>yelp</td>\n",
              "      <td>0</td>\n",
              "    </tr>\n",
              "    <tr>\n",
              "      <th>29</th>\n",
              "      <td>The worst was the salmon sashimi.</td>\n",
              "      <td>0</td>\n",
              "      <td>yelp</td>\n",
              "      <td>1</td>\n",
              "    </tr>\n",
              "    <tr>\n",
              "      <th>31</th>\n",
              "      <td>This was like the final blow!</td>\n",
              "      <td>0</td>\n",
              "      <td>yelp</td>\n",
              "      <td>1</td>\n",
              "    </tr>\n",
              "    <tr>\n",
              "      <th>32</th>\n",
              "      <td>I found this place by accident and I could not...</td>\n",
              "      <td>1</td>\n",
              "      <td>yelp</td>\n",
              "      <td>0</td>\n",
              "    </tr>\n",
              "  </tbody>\n",
              "</table>\n",
              "</div>\n",
              "      <button class=\"colab-df-convert\" onclick=\"convertToInteractive('df-2a428f57-4fc1-45fc-b3d3-f8af84a1ee37')\"\n",
              "              title=\"Convert this dataframe to an interactive table.\"\n",
              "              style=\"display:none;\">\n",
              "        \n",
              "  <svg xmlns=\"http://www.w3.org/2000/svg\" height=\"24px\"viewBox=\"0 0 24 24\"\n",
              "       width=\"24px\">\n",
              "    <path d=\"M0 0h24v24H0V0z\" fill=\"none\"/>\n",
              "    <path d=\"M18.56 5.44l.94 2.06.94-2.06 2.06-.94-2.06-.94-.94-2.06-.94 2.06-2.06.94zm-11 1L8.5 8.5l.94-2.06 2.06-.94-2.06-.94L8.5 2.5l-.94 2.06-2.06.94zm10 10l.94 2.06.94-2.06 2.06-.94-2.06-.94-.94-2.06-.94 2.06-2.06.94z\"/><path d=\"M17.41 7.96l-1.37-1.37c-.4-.4-.92-.59-1.43-.59-.52 0-1.04.2-1.43.59L10.3 9.45l-7.72 7.72c-.78.78-.78 2.05 0 2.83L4 21.41c.39.39.9.59 1.41.59.51 0 1.02-.2 1.41-.59l7.78-7.78 2.81-2.81c.8-.78.8-2.07 0-2.86zM5.41 20L4 18.59l7.72-7.72 1.47 1.35L5.41 20z\"/>\n",
              "  </svg>\n",
              "      </button>\n",
              "      \n",
              "  <style>\n",
              "    .colab-df-container {\n",
              "      display:flex;\n",
              "      flex-wrap:wrap;\n",
              "      gap: 12px;\n",
              "    }\n",
              "\n",
              "    .colab-df-convert {\n",
              "      background-color: #E8F0FE;\n",
              "      border: none;\n",
              "      border-radius: 50%;\n",
              "      cursor: pointer;\n",
              "      display: none;\n",
              "      fill: #1967D2;\n",
              "      height: 32px;\n",
              "      padding: 0 0 0 0;\n",
              "      width: 32px;\n",
              "    }\n",
              "\n",
              "    .colab-df-convert:hover {\n",
              "      background-color: #E2EBFA;\n",
              "      box-shadow: 0px 1px 2px rgba(60, 64, 67, 0.3), 0px 1px 3px 1px rgba(60, 64, 67, 0.15);\n",
              "      fill: #174EA6;\n",
              "    }\n",
              "\n",
              "    [theme=dark] .colab-df-convert {\n",
              "      background-color: #3B4455;\n",
              "      fill: #D2E3FC;\n",
              "    }\n",
              "\n",
              "    [theme=dark] .colab-df-convert:hover {\n",
              "      background-color: #434B5C;\n",
              "      box-shadow: 0px 1px 3px 1px rgba(0, 0, 0, 0.15);\n",
              "      filter: drop-shadow(0px 1px 2px rgba(0, 0, 0, 0.3));\n",
              "      fill: #FFFFFF;\n",
              "    }\n",
              "  </style>\n",
              "\n",
              "      <script>\n",
              "        const buttonEl =\n",
              "          document.querySelector('#df-2a428f57-4fc1-45fc-b3d3-f8af84a1ee37 button.colab-df-convert');\n",
              "        buttonEl.style.display =\n",
              "          google.colab.kernel.accessAllowed ? 'block' : 'none';\n",
              "\n",
              "        async function convertToInteractive(key) {\n",
              "          const element = document.querySelector('#df-2a428f57-4fc1-45fc-b3d3-f8af84a1ee37');\n",
              "          const dataTable =\n",
              "            await google.colab.kernel.invokeFunction('convertToInteractive',\n",
              "                                                     [key], {});\n",
              "          if (!dataTable) return;\n",
              "\n",
              "          const docLinkHtml = 'Like what you see? Visit the ' +\n",
              "            '<a target=\"_blank\" href=https://colab.research.google.com/notebooks/data_table.ipynb>data table notebook</a>'\n",
              "            + ' to learn more about interactive tables.';\n",
              "          element.innerHTML = '';\n",
              "          dataTable['output_type'] = 'display_data';\n",
              "          await google.colab.output.renderOutput(dataTable, element);\n",
              "          const docLink = document.createElement('div');\n",
              "          docLink.innerHTML = docLinkHtml;\n",
              "          element.appendChild(docLink);\n",
              "        }\n",
              "      </script>\n",
              "    </div>\n",
              "  </div>\n",
              "  "
            ]
          },
          "metadata": {},
          "execution_count": 105
        }
      ]
    },
    {
      "cell_type": "markdown",
      "source": [
        "### Build Logistic Regression Models for each data source\n",
        "\n",
        "Each of our data sources has different characteristics of data.  Let's build a Logistic Regression model for each of: yelp, amazon, and imdb.\n",
        "\n",
        "You may find it inconvenient to reuse variable names for different purposes in a notebook.  You may want to take this part, and name each variable differently (as was done with yelp), so you can copy/modify the explore_yelp_classifier and thus you can explore each of these classifiers."
      ],
      "metadata": {
        "id": "iK3i7bmyZenq"
      }
    },
    {
      "cell_type": "code",
      "source": [
        "for source in df['source'].unique():\n",
        "    df_source = df[df['source'] == source]\n",
        "    sentences = df_source['sentence'].values\n",
        "    y = df_source['label'].values\n",
        "\n",
        "    # Train/Test split our data for the data source\n",
        "    sentences_train, sentences_test, y_train, y_test = train_test_split(\n",
        "        sentences, y, test_size=0.2, random_state=1000)\n",
        "\n",
        "    # build and train a TfidfVectorizer for the data source\n",
        "    vectorizer = TfidfVectorizer(min_df=MIN_DF,lowercase=LOWERCASE,\n",
        "      ngram_range=(1,3),max_features=MAX_FEATURES,use_idf=True)\n",
        "    vectorizer.fit(sentences_train)\n",
        "    X_train = vectorizer.transform(sentences_train)\n",
        "    X_test  = vectorizer.transform(sentences_test)\n",
        "\n",
        "    # build and train our LogisticRegression classifier for the data source\n",
        "    classifier = LogisticRegression()\n",
        "    classifier.fit(X_train, y_train)\n",
        "\n",
        "    # score our test data for accuracy\n",
        "    score = classifier.score(X_test, y_test)\n",
        "    print('Accuracy for {} data: {:.4f}'.format(source, score))"
      ],
      "metadata": {
        "id": "D7E0YkjWFp13",
        "colab": {
          "base_uri": "https://localhost:8080/"
        },
        "outputId": "b4af2689-024a-4bd9-a3b5-4898f5660fdf"
      },
      "execution_count": null,
      "outputs": [
        {
          "output_type": "stream",
          "name": "stdout",
          "text": [
            "Accuracy for yelp data: 0.5900\n",
            "Accuracy for amazon data: 0.6300\n",
            "Accuracy for imdb data: 0.6333\n"
          ]
        }
      ]
    },
    {
      "cell_type": "markdown",
      "source": [
        "The accuracy of our classifiers is not bad but of course, not state of the art.  \n",
        "\n",
        "Suggestion:  comment out the !unzip or it will stall and wait for you to answer on rewriting the file."
      ],
      "metadata": {
        "id": "1gqPliTYfYzf"
      }
    }
  ]
}